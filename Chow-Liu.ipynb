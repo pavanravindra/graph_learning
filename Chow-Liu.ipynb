{
 "cells": [
  {
   "cell_type": "code",
   "execution_count": 1,
   "metadata": {},
   "outputs": [],
   "source": [
    "### Importing packages\n",
    "import json\n",
    "import numpy as np\n",
    "import networkx as nx\n",
    "import matplotlib.pyplot as plt\n",
    "%matplotlib inline"
   ]
  },
  {
   "cell_type": "code",
   "execution_count": 2,
   "metadata": {},
   "outputs": [],
   "source": [
    "### This takes care of the behind the scenes stuff for creating graphs\n",
    "def draw_graph(G, size=(10,6), title=None):\n",
    "    fig, ax = plt.subplots(1, 1, figsize=size);\n",
    "    nx.draw_networkx(G, ax=ax)\n",
    "    ax.xaxis.set_visible(False)\n",
    "    ax.yaxis.set_visible(False)\n",
    "    if title:\n",
    "        plt.title(title)\n",
    "    plt.show()"
   ]
  },
  {
   "cell_type": "code",
   "execution_count": 3,
   "metadata": {},
   "outputs": [],
   "source": [
    "### Returns the indices of all neighbors of the vertex indexed by 'val' that have an index greater than 'val'\n",
    "def assoc_vals(val, pairs):\n",
    "    vals = []\n",
    "    for pair in pairs:\n",
    "        if sorted(pair)[0] == val:\n",
    "            vals.append(sorted(pair)[1])\n",
    "    return vals"
   ]
  },
  {
   "cell_type": "code",
   "execution_count": 4,
   "metadata": {},
   "outputs": [],
   "source": [
    "### Generates the trajectories with the provided specifications\n",
    "def gen_noisy_traj(num_vars, pairs, traj_len):\n",
    "    \n",
    "    trajs = [[] for i in range(num_vars)]\n",
    "    \n",
    "    for i in range(num_vars):\n",
    "        \n",
    "        if len(trajs[i]):\n",
    "            traj = trajs[i]\n",
    "        else:\n",
    "            traj = np.random.normal(0, 1, traj_len)\n",
    "            trajs[i] = traj\n",
    "        \n",
    "        for val in assoc_vals(i, pairs):\n",
    "            if not len(trajs[val]):\n",
    "                trajs[val] = traj + np.random.normal(0, 1.0, traj_len)\n",
    "    \n",
    "    return trajs"
   ]
  },
  {
   "cell_type": "code",
   "execution_count": 5,
   "metadata": {},
   "outputs": [],
   "source": [
    "### Computes the mutual information between two trajectories\n",
    "def mutual_information(x1, x2, bins=50):\n",
    "    \n",
    "    b1, _ = np.histogram(x1, bins=bins)\n",
    "    b1 = b1 / np.sum(b1)\n",
    "    b2, _ = np.histogram(x2, bins=bins)\n",
    "    b2 = b2 / np.sum(b2)\n",
    "    b12, _, _ = np.histogram2d(x1, x2, bins=bins)\n",
    "    b12 = b12 / np.sum(b12)\n",
    "    \n",
    "    mi = 0.0\n",
    "    for i1 in range(len(b1)):\n",
    "        for i2 in range(len(b2)):\n",
    "            if b12[i1][i2] == 0:\n",
    "                continue;\n",
    "            mi += b12[i1][i2] * np.log(b12[i1][i2] / (b1[i1] * b2[i2]))            \n",
    "    return mi"
   ]
  },
  {
   "cell_type": "code",
   "execution_count": 6,
   "metadata": {},
   "outputs": [
    {
     "name": "stderr",
     "output_type": "stream",
     "text": [
      "/home/amress/anaconda3/lib/python3.7/site-packages/networkx/drawing/nx_pylab.py:611: MatplotlibDeprecationWarning: isinstance(..., numbers.Number)\n",
      "  if cb.is_numlike(alpha):\n"
     ]
    },
    {
     "data": {
      "image/png": "[encoded data removed]",
      "text/plain": [
       "<Figure size 216x288 with 1 Axes>"
      ]
     },
     "metadata": {
      "needs_background": "light"
     },
     "output_type": "display_data"
    },
    {
     "data": {
      "image/png": "[encoded data removed]",
      "text/plain": [
       "<Figure size 216x288 with 1 Axes>"
      ]
     },
     "metadata": {
      "needs_background": "light"
     },
     "output_type": "display_data"
    }
   ],
   "source": [
    "### Testing \"noisy\" trajectories\n",
    "\n",
    "# Generating trajectory\n",
    "num_vars = 5\n",
    "pairs = [(0,1), (1,2), (1,3), (3,4)]\n",
    "traj_len = int(1e4)\n",
    "trajs = gen_noisy_traj(num_vars, pairs, traj_len)\n",
    "\n",
    "# Making original graph drawing\n",
    "G1 = nx.Graph()\n",
    "for edge in pairs:\n",
    "    G1.add_edge(edge[0], edge[1])\n",
    "draw_graph(G1, (3,4), title=\"Original Graph\")\n",
    "\n",
    "# Adding weights between edges\n",
    "for i in range(num_vars):\n",
    "    for j in range(i+1, num_vars):\n",
    "        G1.add_edge(i, j, weight=mutual_information(trajs[i], trajs[j]))\n",
    "\n",
    "# Making output graph\n",
    "G2 = nx.Graph()\n",
    "max_tree = nx.algorithms.tree.mst.maximum_spanning_edges(G1)\n",
    "for edge in pairs:\n",
    "    G2.add_edge(edge[0], edge[1])\n",
    "draw_graph(G2, (3,4), title=\"Resulting Graph\")"
   ]
  },
  {
   "cell_type": "code",
   "execution_count": 7,
   "metadata": {},
   "outputs": [],
   "source": [
    "### Random seed generation\n",
    "#     a_list:  values of a in the ax^2 form\n",
    "def random_seed(a_list):\n",
    "    sigs = np.sqrt(1.0 / (2.0 * np.array(a_list)))\n",
    "    return np.random.normal(0.0, sigs)"
   ]
  },
  {
   "cell_type": "code",
   "execution_count": 8,
   "metadata": {},
   "outputs": [],
   "source": [
    "### Update function to generate new vectors\n",
    "#     prev_list:    previous values of variables\n",
    "#     factor:       how much we shift variables by\n",
    "#     a_list:       values of a in ax^2 form\n",
    "def update(prev_list, factor, a_list):\n",
    "    assert (len(prev_list) == len(a_list)),\"prev_list and a_list must be of the same length\"\n",
    "    sigs = np.sqrt(1.0 / (2.0 * np.array(a_list)))\n",
    "    diffs = factor * np.random.normal(0.0, sigs)\n",
    "    return np.array(prev_list) + diffs"
   ]
  },
  {
   "cell_type": "code",
   "execution_count": 47,
   "metadata": {},
   "outputs": [],
   "source": [
    "### Writing probability function for generic coupled system\n",
    "#     x_list:   value of variables (as a list of two variables)\n",
    "#     a_list:   values of a in ax^2 form\n",
    "#     b_list:   values of b\n",
    "def make_potential(x_list, a_list, b_list, pairs):\n",
    "    assert(len(x_list) == len(a_list)),\"x_list and a_list must be of the same length\"\n",
    "    assert(len(b_list) == len(pairs)),\"a_list and b_list lengths aren't compatible\"\n",
    "    var_diffs = np.array(a_list) * (np.array(x_list) ** 2)\n",
    "    inter_dists = [(x_list[i] - x_list[j]) ** 2 for (i,j) in pairs]\n",
    "    if not len(inter_dists):\n",
    "        inter_vars = 0.0\n",
    "    else:\n",
    "        inter_vars = np.array(b_list) * np.array(inter_dists)\n",
    "    \n",
    "    energy = np.sum(var_diffs) + np.sum(inter_vars)\n",
    "    probability = np.exp(-1 * energy)\n",
    "    return probability"
   ]
  },
  {
   "cell_type": "code",
   "execution_count": 11,
   "metadata": {},
   "outputs": [],
   "source": [
    "### Somewhat generalized Metropolis algorithm\n",
    "#     seed_generator(a_list): function that generates starting seed for a given vector of a values (ax^2)\n",
    "#     update(prev_list, factor, a_list): function that takes a point and returns an updated point for consideration\n",
    "#     prob(x_list, a_list, b_list): computes the probability of a point x_list given a set of values a_list and b_list\n",
    "#     traj_len: length of trajectory\n",
    "#     factor: value of factor for use in update function\n",
    "#     a_list: values of a in ax^2 form\n",
    "#     b_list: values of b\n",
    "def mod_metropolis(seed_generator, update, prob, traj_len, factor, a_list, b_list):\n",
    "    traj = []\n",
    "    point = seed_generator(a_list)\n",
    "    traj.append(point)\n",
    "    while (len(traj) < traj_len):\n",
    "        new_point = update(point, factor, a_list)\n",
    "        acceptance_ratio = prob(new_point, a_list, b_list) / prob(point, a_list, b_list)\n",
    "        u = np.random.uniform()\n",
    "        if u <= acceptance_ratio:\n",
    "            point = new_point\n",
    "            traj.append(point)\n",
    "        else:\n",
    "            traj.append(point)\n",
    "    return traj"
   ]
  },
  {
   "cell_type": "code",
   "execution_count": 50,
   "metadata": {},
   "outputs": [
    {
     "data": {
      "image/png": "[encoded data removed]",
      "text/plain": [
       "<Figure size 216x288 with 1 Axes>"
      ]
     },
     "metadata": {
      "needs_background": "light"
     },
     "output_type": "display_data"
    },
    {
     "data": {
      "image/png": "[encoded data removed]",
      "text/plain": [
       "<Figure size 216x288 with 1 Axes>"
      ]
     },
     "metadata": {
      "needs_background": "light"
     },
     "output_type": "display_data"
    }
   ],
   "source": [
    "### Testing \"coupled\" trajectories\n",
    "\n",
    "pairs = [(0,1), (1,2), (1,3), (3,4)]\n",
    "traj_len = int(1e5)\n",
    "a_list = [1.0, 2.0, 3.0, 4.0, 5.0]\n",
    "b_list = [3.0, 2.0, 1.5, 5.0]\n",
    "\n",
    "potential = lambda point, a_list, b_list : make_potential(point, a_list, b_list, pairs)\n",
    "traj = mod_metropolis(random_seed, update, potential, traj_len, 0.1, a_list, b_list)\n",
    "\n",
    "# Making original graph drawing\n",
    "G1 = nx.Graph()\n",
    "for edge in pairs:\n",
    "    G1.add_edge(edge[0], edge[1])\n",
    "draw_graph(G1, (3,4), title=\"Original Graph\")\n",
    "\n",
    "# Adding weights between edges\n",
    "for i in range(num_vars):\n",
    "    for j in range(i+1, num_vars):\n",
    "        G1.add_edge(i, j, weight=mutual_information(trajs[i], trajs[j]))\n",
    "\n",
    "# Making output graph\n",
    "G2 = nx.Graph()\n",
    "max_tree = nx.algorithms.tree.mst.maximum_spanning_edges(G1)\n",
    "for edge in pairs:\n",
    "    G2.add_edge(edge[0], edge[1])\n",
    "draw_graph(G2, (3,4), title=\"Resulting Graph\")"
   ]
  }
 ],
 "metadata": {
  "kernelspec": {
   "display_name": "Python 3",
   "language": "python",
   "name": "python3"
  },
  "language_info": {
   "codemirror_mode": {
    "name": "ipython",
    "version": 3
   },
   "file_extension": ".py",
   "mimetype": "text/x-python",
   "name": "python",
   "nbconvert_exporter": "python",
   "pygments_lexer": "ipython3",
   "version": "3.7.3"
  }
 },
 "nbformat": 4,
 "nbformat_minor": 2
}
